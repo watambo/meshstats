{
 "cells": [
  {
   "cell_type": "code",
   "execution_count": 1,
   "metadata": {
    "collapsed": true
   },
   "outputs": [],
   "source": [
    "import requests\n",
    "from bs4 import BeautifulSoup\n",
    "target_url = \"https://www.geospatial.jp/ckan/dataset/npli-pref-1km\"\n",
    "r = requests.get(target_url)\n",
    "soup = BeautifulSoup(r.text, 'lxml')"
   ]
  },
  {
   "cell_type": "code",
   "execution_count": 3,
   "metadata": {},
   "outputs": [],
   "source": [
    "import re"
   ]
  },
  {
   "cell_type": "code",
   "execution_count": 5,
   "metadata": {},
   "outputs": [],
   "source": [
    "geojson_list = []\n",
    "for a in soup.find_all('a', href=re.compile(\".geojson$\")):\n",
    "    geojson_list.append(a.get(\"href\"))"
   ]
  },
  {
   "cell_type": "code",
   "execution_count": 27,
   "metadata": {},
   "outputs": [],
   "source": [
    "import urllib\n",
    "import time"
   ]
  },
  {
   "cell_type": "code",
   "execution_count": 32,
   "metadata": {},
   "outputs": [
    {
     "name": "stdout",
     "output_type": "stream",
     "text": [
      "https://www.geospatial.jp/ckan/dataset/ee0203ee-d526-419c-b894-950b03a1ecd0/resource/39d34b7b-b036-43e4-8b09-eb7450073d16/download/01hokkaido1km.geojsonを、./data/geojson/prefecture_0.jsonとして保存しました\n",
      "https://www.geospatial.jp/ckan/dataset/ee0203ee-d526-419c-b894-950b03a1ecd0/resource/6da5c67f-b754-4444-9768-e09fbc1f1a3b/download/02aomori1km.geojsonを、./data/geojson/prefecture_1.jsonとして保存しました\n",
      "https://www.geospatial.jp/ckan/dataset/ee0203ee-d526-419c-b894-950b03a1ecd0/resource/d27dc11b-7e55-4994-a35e-7bd533fe9d0a/download/03iwate1km.geojsonを、./data/geojson/prefecture_2.jsonとして保存しました\n",
      "https://www.geospatial.jp/ckan/dataset/ee0203ee-d526-419c-b894-950b03a1ecd0/resource/cdf660c4-df07-4fed-87d3-e8e3bea80523/download/04miyagi1km.geojsonを、./data/geojson/prefecture_3.jsonとして保存しました\n",
      "https://www.geospatial.jp/ckan/dataset/ee0203ee-d526-419c-b894-950b03a1ecd0/resource/0903e6a8-c2e6-465b-a9fd-4ce0c5834159/download/05akita1km.geojsonを、./data/geojson/prefecture_4.jsonとして保存しました\n",
      "https://www.geospatial.jp/ckan/dataset/ee0203ee-d526-419c-b894-950b03a1ecd0/resource/5b2659fc-88c9-4ddb-8cf1-0e976fc73106/download/06yamagata1km.geojsonを、./data/geojson/prefecture_5.jsonとして保存しました\n",
      "https://www.geospatial.jp/ckan/dataset/ee0203ee-d526-419c-b894-950b03a1ecd0/resource/fb012932-dda9-4718-a9df-e5facabed7ce/download/07fukushima1km.geojsonを、./data/geojson/prefecture_6.jsonとして保存しました\n",
      "https://www.geospatial.jp/ckan/dataset/ee0203ee-d526-419c-b894-950b03a1ecd0/resource/d8e0cd7b-2079-4de4-b9d8-9886a80d1074/download/08ibaragi1km.geojsonを、./data/geojson/prefecture_7.jsonとして保存しました\n",
      "https://www.geospatial.jp/ckan/dataset/ee0203ee-d526-419c-b894-950b03a1ecd0/resource/45d72885-efc5-4e59-9cea-e28f1e98dd49/download/09tochigi1km.geojsonを、./data/geojson/prefecture_8.jsonとして保存しました\n",
      "https://www.geospatial.jp/ckan/dataset/ee0203ee-d526-419c-b894-950b03a1ecd0/resource/70b6de6f-d0bb-4ce6-9cf6-d088db51be61/download/10gunma1km.geojsonを、./data/geojson/prefecture_9.jsonとして保存しました\n",
      "https://www.geospatial.jp/ckan/dataset/ee0203ee-d526-419c-b894-950b03a1ecd0/resource/b814bbc0-7636-4cef-b835-d9eeedb1a731/download/11saitama1km.geojsonを、./data/geojson/prefecture_10.jsonとして保存しました\n",
      "https://www.geospatial.jp/ckan/dataset/ee0203ee-d526-419c-b894-950b03a1ecd0/resource/c087134b-589e-4e9d-be92-a70c205f733b/download/12chiba1km.geojsonを、./data/geojson/prefecture_11.jsonとして保存しました\n",
      "https://www.geospatial.jp/ckan/dataset/ee0203ee-d526-419c-b894-950b03a1ecd0/resource/9f93ab0c-a157-4408-b492-41c1e036eaac/download/13tokyo1km.geojsonを、./data/geojson/prefecture_12.jsonとして保存しました\n",
      "https://www.geospatial.jp/ckan/dataset/ee0203ee-d526-419c-b894-950b03a1ecd0/resource/3a4560bc-a810-4db7-8484-445476f71207/download/14kanagawa1km.geojsonを、./data/geojson/prefecture_13.jsonとして保存しました\n",
      "https://www.geospatial.jp/ckan/dataset/ee0203ee-d526-419c-b894-950b03a1ecd0/resource/77ecea44-67ca-4632-9f04-4b31b9bb08b0/download/15niigata1km.geojsonを、./data/geojson/prefecture_14.jsonとして保存しました\n",
      "https://www.geospatial.jp/ckan/dataset/ee0203ee-d526-419c-b894-950b03a1ecd0/resource/be06343e-e0ba-4d46-9f02-9bee28bb8a76/download/16toyama1km.geojsonを、./data/geojson/prefecture_15.jsonとして保存しました\n",
      "https://www.geospatial.jp/ckan/dataset/ee0203ee-d526-419c-b894-950b03a1ecd0/resource/2c251738-34e6-4832-abb0-1adc1a8f7d28/download/17ishikawa1km.geojsonを、./data/geojson/prefecture_16.jsonとして保存しました\n",
      "https://www.geospatial.jp/ckan/dataset/ee0203ee-d526-419c-b894-950b03a1ecd0/resource/be37510d-62b9-4775-b6ca-90aa70f21463/download/18fukui1km.geojsonを、./data/geojson/prefecture_17.jsonとして保存しました\n",
      "https://www.geospatial.jp/ckan/dataset/ee0203ee-d526-419c-b894-950b03a1ecd0/resource/2bd1ba72-35ed-4ef2-a911-b54437235c94/download/19yamanashi1km.geojsonを、./data/geojson/prefecture_18.jsonとして保存しました\n",
      "https://www.geospatial.jp/ckan/dataset/ee0203ee-d526-419c-b894-950b03a1ecd0/resource/798e0d76-f68f-47b1-b1f1-e43ca720b530/download/20nagano1km.geojsonを、./data/geojson/prefecture_19.jsonとして保存しました\n",
      "https://www.geospatial.jp/ckan/dataset/ee0203ee-d526-419c-b894-950b03a1ecd0/resource/1434f358-5d87-4f22-838b-fb890e8daa13/download/21gifu1km.geojsonを、./data/geojson/prefecture_20.jsonとして保存しました\n",
      "https://www.geospatial.jp/ckan/dataset/ee0203ee-d526-419c-b894-950b03a1ecd0/resource/a2931afa-f4b6-477c-83d4-2649229639dd/download/22shizuoka1km.geojsonを、./data/geojson/prefecture_21.jsonとして保存しました\n",
      "https://www.geospatial.jp/ckan/dataset/ee0203ee-d526-419c-b894-950b03a1ecd0/resource/4d36ea0f-3be4-433a-83cc-73a8ce2b0b5a/download/23aichi1km.geojsonを、./data/geojson/prefecture_22.jsonとして保存しました\n",
      "https://www.geospatial.jp/ckan/dataset/ee0203ee-d526-419c-b894-950b03a1ecd0/resource/930693ef-4714-4508-84c4-222e7fad87a3/download/24mie1km.geojsonを、./data/geojson/prefecture_23.jsonとして保存しました\n",
      "https://www.geospatial.jp/ckan/dataset/ee0203ee-d526-419c-b894-950b03a1ecd0/resource/45a70a37-7270-4e97-bf81-3963864d9dc6/download/25shiga1km.geojsonを、./data/geojson/prefecture_24.jsonとして保存しました\n",
      "https://www.geospatial.jp/ckan/dataset/ee0203ee-d526-419c-b894-950b03a1ecd0/resource/d41b1e47-99cd-4931-9002-572a339c7054/download/26kyoto1km.geojsonを、./data/geojson/prefecture_25.jsonとして保存しました\n",
      "https://www.geospatial.jp/ckan/dataset/ee0203ee-d526-419c-b894-950b03a1ecd0/resource/3a8aa0ad-fbc4-4191-bb70-933d6bfc2a0a/download/27osaka1km.geojsonを、./data/geojson/prefecture_26.jsonとして保存しました\n",
      "https://www.geospatial.jp/ckan/dataset/ee0203ee-d526-419c-b894-950b03a1ecd0/resource/826be77a-d871-45cb-ae82-53bb8a93926e/download/28hyogo1km.geojsonを、./data/geojson/prefecture_27.jsonとして保存しました\n",
      "https://www.geospatial.jp/ckan/dataset/ee0203ee-d526-419c-b894-950b03a1ecd0/resource/a97bea5f-4a46-4b53-bcca-f3102d625d39/download/29nara1km.geojsonを、./data/geojson/prefecture_28.jsonとして保存しました\n",
      "https://www.geospatial.jp/ckan/dataset/ee0203ee-d526-419c-b894-950b03a1ecd0/resource/ecb46b42-991d-447a-845d-8409c8f6d3a0/download/30wakayama1km.geojsonを、./data/geojson/prefecture_29.jsonとして保存しました\n",
      "https://www.geospatial.jp/ckan/dataset/ee0203ee-d526-419c-b894-950b03a1ecd0/resource/d24650c3-7fd1-4e64-8abf-098fe1e83504/download/31tottori1km.geojsonを、./data/geojson/prefecture_30.jsonとして保存しました\n",
      "https://www.geospatial.jp/ckan/dataset/ee0203ee-d526-419c-b894-950b03a1ecd0/resource/e563cca4-40b3-40f6-bbc2-aac92e15583d/download/32shimane1km.geojsonを、./data/geojson/prefecture_31.jsonとして保存しました\n",
      "https://www.geospatial.jp/ckan/dataset/ee0203ee-d526-419c-b894-950b03a1ecd0/resource/c1909e49-3b6a-45b9-9cfe-0195c8f03c56/download/33okayama1km.geojsonを、./data/geojson/prefecture_32.jsonとして保存しました\n",
      "https://www.geospatial.jp/ckan/dataset/ee0203ee-d526-419c-b894-950b03a1ecd0/resource/668ba395-d554-45e4-9340-29ea5fef9f7a/download/34hiroshima1km.geojsonを、./data/geojson/prefecture_33.jsonとして保存しました\n",
      "https://www.geospatial.jp/ckan/dataset/ee0203ee-d526-419c-b894-950b03a1ecd0/resource/9a3e7211-5f9e-46c6-9b7f-3bc2d7cb5ac1/download/35yamaguchi1km.geojsonを、./data/geojson/prefecture_34.jsonとして保存しました\n",
      "https://www.geospatial.jp/ckan/dataset/ee0203ee-d526-419c-b894-950b03a1ecd0/resource/ad403f88-2e0c-46e8-912e-39dc1977e100/download/36tokushima1km.geojsonを、./data/geojson/prefecture_35.jsonとして保存しました\n",
      "https://www.geospatial.jp/ckan/dataset/ee0203ee-d526-419c-b894-950b03a1ecd0/resource/56730362-536b-4f5d-a35f-74b054770456/download/37kagawa1km.geojsonを、./data/geojson/prefecture_36.jsonとして保存しました\n",
      "https://www.geospatial.jp/ckan/dataset/ee0203ee-d526-419c-b894-950b03a1ecd0/resource/8d5be40d-3422-41d7-b201-11f999d0596e/download/38ehime1km.geojsonを、./data/geojson/prefecture_37.jsonとして保存しました\n",
      "https://www.geospatial.jp/ckan/dataset/ee0203ee-d526-419c-b894-950b03a1ecd0/resource/c7691060-4bd4-4865-a779-008ce065d92d/download/39kochi1km.geojsonを、./data/geojson/prefecture_38.jsonとして保存しました\n",
      "https://www.geospatial.jp/ckan/dataset/ee0203ee-d526-419c-b894-950b03a1ecd0/resource/b79e9583-2d4f-4df3-b575-6757127a5989/download/40fukuoka1km.geojsonを、./data/geojson/prefecture_39.jsonとして保存しました\n",
      "https://www.geospatial.jp/ckan/dataset/ee0203ee-d526-419c-b894-950b03a1ecd0/resource/ba9e384c-bfad-4a2d-901d-37dfb330cf5f/download/41saga1km.geojsonを、./data/geojson/prefecture_40.jsonとして保存しました\n",
      "https://www.geospatial.jp/ckan/dataset/ee0203ee-d526-419c-b894-950b03a1ecd0/resource/6d2421e5-fd32-4188-8e07-edd11c35ed49/download/42nagasaki1km.geojsonを、./data/geojson/prefecture_41.jsonとして保存しました\n"
     ]
    },
    {
     "name": "stdout",
     "output_type": "stream",
     "text": [
      "https://www.geospatial.jp/ckan/dataset/ee0203ee-d526-419c-b894-950b03a1ecd0/resource/07afa576-bba3-444e-bc9c-2a95962a673a/download/43kumamoto1km.geojsonを、./data/geojson/prefecture_42.jsonとして保存しました\n",
      "https://www.geospatial.jp/ckan/dataset/ee0203ee-d526-419c-b894-950b03a1ecd0/resource/9ade6aa7-b5b9-4e23-8cef-1e7569082855/download/44oita1km.geojsonを、./data/geojson/prefecture_43.jsonとして保存しました\n",
      "https://www.geospatial.jp/ckan/dataset/ee0203ee-d526-419c-b894-950b03a1ecd0/resource/b8a20beb-9d5a-42c4-87e2-02c54bc2a63b/download/45miyazaki1km.geojsonを、./data/geojson/prefecture_44.jsonとして保存しました\n",
      "https://www.geospatial.jp/ckan/dataset/ee0203ee-d526-419c-b894-950b03a1ecd0/resource/b77950e7-c151-4ce2-800b-7f3021836653/download/46kagoshima1km.geojsonを、./data/geojson/prefecture_45.jsonとして保存しました\n",
      "https://www.geospatial.jp/ckan/dataset/ee0203ee-d526-419c-b894-950b03a1ecd0/resource/1b5ee465-b3d7-4f5a-a9c6-96a922c714da/download/47okinawa1km.geojsonを、./data/geojson/prefecture_46.jsonとして保存しました\n"
     ]
    }
   ],
   "source": [
    "for i, geojson in enumerate(geojson_list):\n",
    "    time.sleep(1)\n",
    "    urllib.urlretrieve(geojson, './data/geojson/prefecture_%d.json' % i)\n",
    "    print(geojson+'を、./data/geojson/prefecture_%d.jsonとして保存しました' % i)"
   ]
  },
  {
   "cell_type": "code",
   "execution_count": null,
   "metadata": {
    "collapsed": true
   },
   "outputs": [],
   "source": []
  }
 ],
 "metadata": {
  "kernelspec": {
   "display_name": "Python 2",
   "language": "python",
   "name": "python2"
  },
  "language_info": {
   "codemirror_mode": {
    "name": "ipython",
    "version": 2
   },
   "file_extension": ".py",
   "mimetype": "text/x-python",
   "name": "python",
   "nbconvert_exporter": "python",
   "pygments_lexer": "ipython2",
   "version": "2.7.13"
  }
 },
 "nbformat": 4,
 "nbformat_minor": 2
}
