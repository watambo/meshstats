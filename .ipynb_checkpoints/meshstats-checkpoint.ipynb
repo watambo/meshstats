{
 "cells": [
  {
   "cell_type": "code",
   "execution_count": 63,
   "metadata": {
    "collapsed": true
   },
   "outputs": [],
   "source": [
    "import numpy as np\n",
    "from pandas import Series, DataFrame\n",
    "import pandas as pd\n",
    "import matplotlib.pyplot as plt\n",
    "import requests"
   ]
  },
  {
   "cell_type": "code",
   "execution_count": 64,
   "metadata": {
    "collapsed": true
   },
   "outputs": [],
   "source": [
    "url = 'https://www.meshstats.xyz/meshstats/api.php?latitude=34.9973787377006&longitude=135.780029296875&distance=10&func=jobsmesh&key=ANwbR7yIsQMZ2LM'\n",
    "data = DataFrame(pd.read_csv(url))"
   ]
  },
  {
   "cell_type": "code",
   "execution_count": 65,
   "metadata": {
    "collapsed": true
   },
   "outputs": [],
   "source": [
    "def cal_mean(x):\n",
    "    return Series([(x[\"latitude0\"]+x[\"latitude1\"])/2, (x[\"longitude0\"]+x[\"longitude1\"])/2], index=['lat_mean', 'lon_mean'])"
   ]
  },
  {
   "cell_type": "code",
   "execution_count": 66,
   "metadata": {
    "collapsed": true
   },
   "outputs": [],
   "source": [
    "m = data.apply(cal_mean, axis=1)\n",
    "data = pd.concat([data, m], axis=1)"
   ]
  },
  {
   "cell_type": "code",
   "execution_count": 67,
   "metadata": {
    "scrolled": true
   },
   "outputs": [
    {
     "data": {
      "text/html": [
       "<div>\n",
       "<style>\n",
       "    .dataframe thead tr:only-child th {\n",
       "        text-align: right;\n",
       "    }\n",
       "\n",
       "    .dataframe thead th {\n",
       "        text-align: left;\n",
       "    }\n",
       "\n",
       "    .dataframe tbody tr th {\n",
       "        vertical-align: top;\n",
       "    }\n",
       "</style>\n",
       "<table border=\"1\" class=\"dataframe\">\n",
       "  <thead>\n",
       "    <tr style=\"text-align: right;\">\n",
       "      <th></th>\n",
       "      <th>世界メッシュコード</th>\n",
       "      <th>latitude0</th>\n",
       "      <th>longitude0</th>\n",
       "      <th>latitude1</th>\n",
       "      <th>longitude1</th>\n",
       "      <th>北側東西幅 (km)</th>\n",
       "      <th>南側東西幅 (km)</th>\n",
       "      <th>南北幅 (km)</th>\n",
       "      <th>面積 (km&lt;SUP&gt;2&lt;/SUP&gt;)</th>\n",
       "      <th>最低標高 (m)</th>\n",
       "      <th>...</th>\n",
       "      <th>講師・インストラクター</th>\n",
       "      <th>ドライバー</th>\n",
       "      <th>美容・エステ・ネイル</th>\n",
       "      <th>医療・看護・介護</th>\n",
       "      <th>接客・サービス</th>\n",
       "      <th>軽作業・清掃・警備・引越し</th>\n",
       "      <th>製造・組立・建設・他作業</th>\n",
       "      <th>ファッション・アパレル</th>\n",
       "      <th>lat_mean</th>\n",
       "      <th>lon_mean</th>\n",
       "    </tr>\n",
       "  </thead>\n",
       "  <tbody>\n",
       "    <tr>\n",
       "      <th>count</th>\n",
       "      <td>7.800000e+02</td>\n",
       "      <td>780.000000</td>\n",
       "      <td>780.000000</td>\n",
       "      <td>780.000000</td>\n",
       "      <td>780.000000</td>\n",
       "      <td>780.000000</td>\n",
       "      <td>780.000000</td>\n",
       "      <td>780.000000</td>\n",
       "      <td>780.000000</td>\n",
       "      <td>780.000000</td>\n",
       "      <td>...</td>\n",
       "      <td>780.000000</td>\n",
       "      <td>780.000000</td>\n",
       "      <td>780.000000</td>\n",
       "      <td>780.000000</td>\n",
       "      <td>780.000000</td>\n",
       "      <td>780.000000</td>\n",
       "      <td>780.000000</td>\n",
       "      <td>780.000000</td>\n",
       "      <td>780.000000</td>\n",
       "      <td>780.000000</td>\n",
       "    </tr>\n",
       "    <tr>\n",
       "      <th>mean</th>\n",
       "      <td>2.052354e+09</td>\n",
       "      <td>34.997863</td>\n",
       "      <td>135.781250</td>\n",
       "      <td>34.989530</td>\n",
       "      <td>135.793750</td>\n",
       "      <td>1.141131</td>\n",
       "      <td>1.141247</td>\n",
       "      <td>0.923467</td>\n",
       "      <td>1.053851</td>\n",
       "      <td>83.761795</td>\n",
       "      <td>...</td>\n",
       "      <td>0.005128</td>\n",
       "      <td>0.043590</td>\n",
       "      <td>0.538462</td>\n",
       "      <td>0.353846</td>\n",
       "      <td>1.155128</td>\n",
       "      <td>0.074359</td>\n",
       "      <td>0.035897</td>\n",
       "      <td>0.058974</td>\n",
       "      <td>34.993697</td>\n",
       "      <td>135.787500</td>\n",
       "    </tr>\n",
       "    <tr>\n",
       "      <th>std</th>\n",
       "      <td>5.448187e+02</td>\n",
       "      <td>0.046971</td>\n",
       "      <td>0.072125</td>\n",
       "      <td>0.046971</td>\n",
       "      <td>0.072125</td>\n",
       "      <td>0.000652</td>\n",
       "      <td>0.000652</td>\n",
       "      <td>0.000008</td>\n",
       "      <td>0.000593</td>\n",
       "      <td>77.523934</td>\n",
       "      <td>...</td>\n",
       "      <td>0.101209</td>\n",
       "      <td>0.359214</td>\n",
       "      <td>2.727186</td>\n",
       "      <td>2.188293</td>\n",
       "      <td>5.057593</td>\n",
       "      <td>1.367929</td>\n",
       "      <td>0.659672</td>\n",
       "      <td>0.567958</td>\n",
       "      <td>0.046971</td>\n",
       "      <td>0.072125</td>\n",
       "    </tr>\n",
       "    <tr>\n",
       "      <th>min</th>\n",
       "      <td>2.052353e+09</td>\n",
       "      <td>34.916667</td>\n",
       "      <td>135.662500</td>\n",
       "      <td>34.908333</td>\n",
       "      <td>135.675000</td>\n",
       "      <td>1.140060</td>\n",
       "      <td>1.140176</td>\n",
       "      <td>0.923453</td>\n",
       "      <td>1.052877</td>\n",
       "      <td>0.000000</td>\n",
       "      <td>...</td>\n",
       "      <td>0.000000</td>\n",
       "      <td>0.000000</td>\n",
       "      <td>0.000000</td>\n",
       "      <td>0.000000</td>\n",
       "      <td>0.000000</td>\n",
       "      <td>0.000000</td>\n",
       "      <td>0.000000</td>\n",
       "      <td>0.000000</td>\n",
       "      <td>34.912500</td>\n",
       "      <td>135.668750</td>\n",
       "    </tr>\n",
       "    <tr>\n",
       "      <th>25%</th>\n",
       "      <td>2.052354e+09</td>\n",
       "      <td>34.958333</td>\n",
       "      <td>135.721875</td>\n",
       "      <td>34.950000</td>\n",
       "      <td>135.734375</td>\n",
       "      <td>1.140523</td>\n",
       "      <td>1.140639</td>\n",
       "      <td>0.923460</td>\n",
       "      <td>1.053299</td>\n",
       "      <td>28.000000</td>\n",
       "      <td>...</td>\n",
       "      <td>0.000000</td>\n",
       "      <td>0.000000</td>\n",
       "      <td>0.000000</td>\n",
       "      <td>0.000000</td>\n",
       "      <td>0.000000</td>\n",
       "      <td>0.000000</td>\n",
       "      <td>0.000000</td>\n",
       "      <td>0.000000</td>\n",
       "      <td>34.954166</td>\n",
       "      <td>135.728125</td>\n",
       "    </tr>\n",
       "    <tr>\n",
       "      <th>50%</th>\n",
       "      <td>2.052354e+09</td>\n",
       "      <td>35.000000</td>\n",
       "      <td>135.781250</td>\n",
       "      <td>34.991667</td>\n",
       "      <td>135.793750</td>\n",
       "      <td>1.141102</td>\n",
       "      <td>1.141218</td>\n",
       "      <td>0.923467</td>\n",
       "      <td>1.053824</td>\n",
       "      <td>69.200000</td>\n",
       "      <td>...</td>\n",
       "      <td>0.000000</td>\n",
       "      <td>0.000000</td>\n",
       "      <td>0.000000</td>\n",
       "      <td>0.000000</td>\n",
       "      <td>0.000000</td>\n",
       "      <td>0.000000</td>\n",
       "      <td>0.000000</td>\n",
       "      <td>0.000000</td>\n",
       "      <td>34.995833</td>\n",
       "      <td>135.787500</td>\n",
       "    </tr>\n",
       "    <tr>\n",
       "      <th>75%</th>\n",
       "      <td>2.052355e+09</td>\n",
       "      <td>35.041667</td>\n",
       "      <td>135.840625</td>\n",
       "      <td>35.033333</td>\n",
       "      <td>135.853125</td>\n",
       "      <td>1.141680</td>\n",
       "      <td>1.141796</td>\n",
       "      <td>0.923476</td>\n",
       "      <td>1.054349</td>\n",
       "      <td>102.500000</td>\n",
       "      <td>...</td>\n",
       "      <td>0.000000</td>\n",
       "      <td>0.000000</td>\n",
       "      <td>0.000000</td>\n",
       "      <td>0.000000</td>\n",
       "      <td>0.000000</td>\n",
       "      <td>0.000000</td>\n",
       "      <td>0.000000</td>\n",
       "      <td>0.000000</td>\n",
       "      <td>35.037500</td>\n",
       "      <td>135.846875</td>\n",
       "    </tr>\n",
       "    <tr>\n",
       "      <th>max</th>\n",
       "      <td>2.052355e+09</td>\n",
       "      <td>35.075000</td>\n",
       "      <td>135.900000</td>\n",
       "      <td>35.066667</td>\n",
       "      <td>135.912500</td>\n",
       "      <td>1.142258</td>\n",
       "      <td>1.142373</td>\n",
       "      <td>0.923480</td>\n",
       "      <td>1.054875</td>\n",
       "      <td>533.300000</td>\n",
       "      <td>...</td>\n",
       "      <td>2.000000</td>\n",
       "      <td>4.000000</td>\n",
       "      <td>34.000000</td>\n",
       "      <td>25.000000</td>\n",
       "      <td>70.000000</td>\n",
       "      <td>27.000000</td>\n",
       "      <td>13.000000</td>\n",
       "      <td>9.000000</td>\n",
       "      <td>35.070833</td>\n",
       "      <td>135.906250</td>\n",
       "    </tr>\n",
       "  </tbody>\n",
       "</table>\n",
       "<p>8 rows × 39 columns</p>\n",
       "</div>"
      ],
      "text/plain": [
       "          世界メッシュコード   latitude0  longitude0   latitude1  longitude1  \\\n",
       "count  7.800000e+02  780.000000  780.000000  780.000000  780.000000   \n",
       "mean   2.052354e+09   34.997863  135.781250   34.989530  135.793750   \n",
       "std    5.448187e+02    0.046971    0.072125    0.046971    0.072125   \n",
       "min    2.052353e+09   34.916667  135.662500   34.908333  135.675000   \n",
       "25%    2.052354e+09   34.958333  135.721875   34.950000  135.734375   \n",
       "50%    2.052354e+09   35.000000  135.781250   34.991667  135.793750   \n",
       "75%    2.052355e+09   35.041667  135.840625   35.033333  135.853125   \n",
       "max    2.052355e+09   35.075000  135.900000   35.066667  135.912500   \n",
       "\n",
       "       北側東西幅 (km)  南側東西幅 (km)    南北幅 (km)  面積 (km<SUP>2</SUP>)    最低標高 (m)  \\\n",
       "count  780.000000  780.000000  780.000000           780.000000  780.000000   \n",
       "mean     1.141131    1.141247    0.923467             1.053851   83.761795   \n",
       "std      0.000652    0.000652    0.000008             0.000593   77.523934   \n",
       "min      1.140060    1.140176    0.923453             1.052877    0.000000   \n",
       "25%      1.140523    1.140639    0.923460             1.053299   28.000000   \n",
       "50%      1.141102    1.141218    0.923467             1.053824   69.200000   \n",
       "75%      1.141680    1.141796    0.923476             1.054349  102.500000   \n",
       "max      1.142258    1.142373    0.923480             1.054875  533.300000   \n",
       "\n",
       "          ...      講師・インストラクター       ドライバー  美容・エステ・ネイル    医療・看護・介護  \\\n",
       "count     ...       780.000000  780.000000  780.000000  780.000000   \n",
       "mean      ...         0.005128    0.043590    0.538462    0.353846   \n",
       "std       ...         0.101209    0.359214    2.727186    2.188293   \n",
       "min       ...         0.000000    0.000000    0.000000    0.000000   \n",
       "25%       ...         0.000000    0.000000    0.000000    0.000000   \n",
       "50%       ...         0.000000    0.000000    0.000000    0.000000   \n",
       "75%       ...         0.000000    0.000000    0.000000    0.000000   \n",
       "max       ...         2.000000    4.000000   34.000000   25.000000   \n",
       "\n",
       "          接客・サービス  軽作業・清掃・警備・引越し  製造・組立・建設・他作業  ファッション・アパレル    lat_mean  \\\n",
       "count  780.000000     780.000000    780.000000   780.000000  780.000000   \n",
       "mean     1.155128       0.074359      0.035897     0.058974   34.993697   \n",
       "std      5.057593       1.367929      0.659672     0.567958    0.046971   \n",
       "min      0.000000       0.000000      0.000000     0.000000   34.912500   \n",
       "25%      0.000000       0.000000      0.000000     0.000000   34.954166   \n",
       "50%      0.000000       0.000000      0.000000     0.000000   34.995833   \n",
       "75%      0.000000       0.000000      0.000000     0.000000   35.037500   \n",
       "max     70.000000      27.000000     13.000000     9.000000   35.070833   \n",
       "\n",
       "         lon_mean  \n",
       "count  780.000000  \n",
       "mean   135.787500  \n",
       "std      0.072125  \n",
       "min    135.668750  \n",
       "25%    135.728125  \n",
       "50%    135.787500  \n",
       "75%    135.846875  \n",
       "max    135.906250  \n",
       "\n",
       "[8 rows x 39 columns]"
      ]
     },
     "execution_count": 67,
     "metadata": {},
     "output_type": "execute_result"
    }
   ],
   "source": [
    "data.describe()"
   ]
  },
  {
   "cell_type": "code",
   "execution_count": 72,
   "metadata": {
    "collapsed": true,
    "scrolled": true
   },
   "outputs": [],
   "source": [
    "from mpl_toolkits.basemap import Basemap\n",
    "fig = plt.figure(figsize=(8,4))\n",
    "lllat=34.9\n",
    "urlat=35.1\n",
    "lllon=135.5\n",
    "urlon=136\n",
    "\n",
    "map = Basemap(projection='merc', \n",
    "              resolution='f', \n",
    "              llcrnrlon=lllon, \n",
    "              llcrnrlat=lllat, \n",
    "              urcrnrlon=urlon,\n",
    "              urcrnrlat=urlat)\n",
    "\n",
    "map.drawcoastlines(color='lightgray')\n",
    "map.drawstates(color='lightgray')\n",
    "map.drawcountries(color='lightgray')\n",
    "map.fillcontinents(color='white', lake_color='#eeeeee');\n",
    "map.drawmapboundary(fill_color='#eeeeee')\n",
    "x = data.apply(lambda x: map(x[u\"lon_mean\"], x[u\"lat_mean\"])[0], axis=1)\n",
    "y = data.apply(lambda x: map(x[u\"lon_mean\"], x[u\"lat_mean\"])[1], axis=1)"
   ]
  },
  {
   "cell_type": "code",
   "execution_count": 69,
   "metadata": {},
   "outputs": [
    {
     "data": {
      "text/plain": [
       "(86.0, 1.0, 321.0)"
      ]
     },
     "execution_count": 69,
     "metadata": {},
     "output_type": "execute_result"
    }
   ],
   "source": [
    "med = data[\"事業所数\"].median()\n",
    "q1 = data[\"事業所数\"].quantile(.25)\n",
    "q3 = data[\"事業所数\"].quantile(.75)\n",
    "med, q1, q3"
   ]
  },
  {
   "cell_type": "code",
   "execution_count": 73,
   "metadata": {},
   "outputs": [
    {
     "data": {
      "image/png": "[encoded data removed]",
      "text/plain": [
       "<matplotlib.figure.Figure at 0x10b4f0e90>"
      ]
     },
     "metadata": {},
     "output_type": "display_data"
    }
   ],
   "source": [
    "map.plot(x, y, 'm.')\n",
    "plt.show()"
   ]
  },
  {
   "cell_type": "code",
   "execution_count": null,
   "metadata": {
    "collapsed": true
   },
   "outputs": [],
   "source": [
    "data.apply(lambda x: map(x[u\"lon_mean\"], x[u\"lat_mean\"])[0], axis=1)"
   ]
  },
  {
   "cell_type": "code",
   "execution_count": null,
   "metadata": {
    "collapsed": true
   },
   "outputs": [],
   "source": []
  },
  {
   "cell_type": "code",
   "execution_count": null,
   "metadata": {
    "collapsed": true
   },
   "outputs": [],
   "source": []
  },
  {
   "cell_type": "code",
   "execution_count": null,
   "metadata": {
    "collapsed": true
   },
   "outputs": [],
   "source": []
  },
  {
   "cell_type": "code",
   "execution_count": null,
   "metadata": {
    "collapsed": true
   },
   "outputs": [],
   "source": []
  }
 ],
 "metadata": {
  "kernelspec": {
   "display_name": "Python 2",
   "language": "python",
   "name": "python2"
  },
  "language_info": {
   "codemirror_mode": {
    "name": "ipython",
    "version": 2
   },
   "file_extension": ".py",
   "mimetype": "text/x-python",
   "name": "python",
   "nbconvert_exporter": "python",
   "pygments_lexer": "ipython2",
   "version": "2.7.13"
  }
 },
 "nbformat": 4,
 "nbformat_minor": 2
}
