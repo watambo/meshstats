{
 "cells": [
  {
   "cell_type": "markdown",
   "metadata": {},
   "source": [
    "# 目的\n",
    "1. 住所から、その緯度経度を取得\n",
    "2. その緯度経度が中心点となるxx km四方の区画のメッシュ別統計量の一覧を取得\n",
    "3. folium,osmで地図上に可視化"
   ]
  },
  {
   "cell_type": "code",
   "execution_count": 10,
   "metadata": {},
   "outputs": [],
   "source": [
    "import numpy as np\n",
    "from pandas import DataFrame\n",
    "import pandas as pd\n",
    "import requests\n",
    "import folium\n",
    "import geocoder"
   ]
  },
  {
   "cell_type": "code",
   "execution_count": 12,
   "metadata": {},
   "outputs": [],
   "source": [
    "def callGeocode(address):\n",
    "    g = geocoder.google(address)\n",
    "    return g.latlng"
   ]
  },
  {
   "cell_type": "code",
   "execution_count": 39,
   "metadata": {},
   "outputs": [],
   "source": [
    "jobsmesh_statics_list = pd.Series(['世界メッシュコード', '最低標高 (m)', '平均標高 (m)', '最高標高 (m)', '最高標高と最低標高との差 (m)',\n",
    "                          '最小傾斜角 (度)', '平均傾斜角 (度)', '最大傾斜角 (度)',\n",
    "                                   '人口 (人)', '人口密度 (人/km2)', '世帯数 (世帯)', '男性 (人)', '女性 (人)', '事業所数', '労働者数 (人)', \n",
    "                                   '求人広告合計', '職種数', '最小月収', '最小時給', '最大時給', \n",
    "                                   '販売', '最小月給(販売)', '最小時給(販売)', '最大時給(販売)',\n",
    "                                   '飲食・フード', '最小月給(飲食・フード)', '最小時給(飲食・フード)', '最大時給(飲食・フード)',\n",
    "                                   'オフィスワーク・事務', '最小月給(オフィスワーク・事務)',\n",
    "                                   '営業', '最小月給(営業)', '最小時給(営業)', '最大時給(営業)',\n",
    "                                   '講師・インストラクター', '最小時給(講師・インストラクター)', '最大時給(講師・インストラクター)',\n",
    "                                   'ドライバー', '最小月給(ドライバー)', \n",
    "                                   '美容・エステ・ネイル', '最小月給(美容・エステ・ネイル)', '最小時給(美容・エステ・ネイル)', '最大時給(美容・エステ・ネイル)',\n",
    "                                   '医療・看護・介護', '最小月給(医療・看護・介護)', '最小時給(医療・看護・介護)', '最大時給(医療・看護・介護)',\n",
    "                                   '接客・サービス', '最小月給(接客・サービス)', '最小時給(接客・サービス)', '最大時給(接客・サービス)',\n",
    "                                   'アミューズメント', '最小月給(アミューズメント)', '最小時給(アミューズメント)', '最大時給(アミューズメント)',\n",
    "                                   '軽作業・清掃・警備・引越し', '最小月給(軽作業・清掃・警備・引越し)', '最小時給(軽作業・清掃・警備・引越し)', '最大時給(軽作業・清掃・警備・引越し)',\n",
    "                                   '製造・組立・建設・他作業', '最小月給(製造・組立・建設・他作業)', '最小時給(製造・組立・建設・他作業)', '最大時給(製造・組立・建設・他作業)',\n",
    "                                   'ファッション・アパレル', '最小月給(ファッション・アパレル)', '最小時給(ファッション・アパレル)'])"
   ]
  },
  {
   "cell_type": "code",
   "execution_count": 43,
   "metadata": {},
   "outputs": [],
   "source": [
    "geojson_list = DataFrame(\n",
    "{'index': range(0, 47, 1),\n",
    "'prefecture': ['北海道',\n",
    "'青森県',\n",
    "'岩手県',\n",
    "'宮城県',\n",
    "'秋田県',\n",
    "'山形県',\n",
    "'福島県',\n",
    "'茨城県',\n",
    "'栃木県',\n",
    "'群馬県',\n",
    "'埼玉県',\n",
    "'千葉県',\n",
    "'東京都',\n",
    "'神奈川県',\n",
    "'新潟県',\n",
    "'富山県',\n",
    "'石川県',\n",
    "'福井県',\n",
    "'山梨県',\n",
    "'長野県',\n",
    "'岐阜県',\n",
    "'静岡県',\n",
    "'愛知県',\n",
    "'三重県',\n",
    "'滋賀県',\n",
    "'京都府',\n",
    "'大阪府',\n",
    "'兵庫県',\n",
    "'奈良県',\n",
    "'和歌山県',\n",
    "'鳥取県',\n",
    "'島根県',\n",
    "'岡山県',\n",
    "'広島県',\n",
    "'山口県',\n",
    "'徳島県',\n",
    "'香川県',\n",
    "'愛媛県',\n",
    "'高知県',\n",
    "'福岡県',\n",
    "'佐賀県',\n",
    "'長崎県',\n",
    "'熊本県',\n",
    "'大分県',\n",
    "'宮崎県',\n",
    "'鹿児島県',\n",
    "'沖縄県']})"
   ]
  },
  {
   "cell_type": "code",
   "execution_count": 16,
   "metadata": {},
   "outputs": [],
   "source": [
    "func = 'jobsmesh'\n",
    "apikey = 'ANwbR7yIsQMZ2LM'"
   ]
  },
  {
   "cell_type": "code",
   "execution_count": 22,
   "metadata": {},
   "outputs": [],
   "source": [
    "def makeData(address):\n",
    "    latlng = callGeocode(address)\n",
    "    lat = latlng[0]; lng = latlng[1]\n",
    "    url = 'https://www.meshstats.xyz/meshstats/api.php?latitude='+str(lat)+'&longitude='+str(lng)+'&distance=10&func='+func+'&key='+apikey\n",
    "    df = DataFrame(pd.read_csv(url))\n",
    "    df[\"世界メッシュコード\"] = df[\"世界メッシュコード\"].astype('str').str[2:11]\n",
    "    return df"
   ]
  },
  {
   "cell_type": "code",
   "execution_count": 48,
   "metadata": {},
   "outputs": [],
   "source": [
    "def staticsVisualize(address, statics):\n",
    "    latlng = callGeocode(address)\n",
    "    lat = latlng[0]; lng = latlng[1]\n",
    "    geojson = r'data/geojson/prefecture_12.json'\n",
    "    meshmap = folium.Map(location=[lat, lng], zoom_start=12)\n",
    "    meshmap.choropleth(geo_path=geojson, data=makeData(address),\n",
    "             columns=['世界メッシュコード', statics],\n",
    "             key_on='properties.code',\n",
    "             fill_color='YlGn', fill_opacity=0.7, line_opacity=0.2,\n",
    "             legend_name=statics,\n",
    "                      reset=True)\n",
    "    return meshmap"
   ]
  },
  {
   "cell_type": "code",
   "execution_count": null,
   "metadata": {},
   "outputs": [],
   "source": [
    "staticsVisualize('東京都港区芝公園４丁目２−８', '飲食・フード')"
   ]
  },
  {
   "cell_type": "code",
   "execution_count": null,
   "metadata": {
    "collapsed": true
   },
   "outputs": [],
   "source": []
  }
 ],
 "metadata": {
  "kernelspec": {
   "display_name": "Python 2",
   "language": "python",
   "name": "python2"
  },
  "language_info": {
   "codemirror_mode": {
    "name": "ipython",
    "version": 2
   },
   "file_extension": ".py",
   "mimetype": "text/x-python",
   "name": "python",
   "nbconvert_exporter": "python",
   "pygments_lexer": "ipython2",
   "version": "2.7.13"
  }
 },
 "nbformat": 4,
 "nbformat_minor": 2
}
